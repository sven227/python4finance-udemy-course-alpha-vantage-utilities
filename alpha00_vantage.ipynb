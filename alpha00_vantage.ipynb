{
 "cells": [
  {
   "cell_type": "code",
   "execution_count": null,
   "metadata": {},
   "outputs": [],
   "source": [
    "#these are utility functions for Udemy-course: Python for Finance: Investment Fundamentals & Data Analytics\n",
    "#we use alpha_vantage to retrieve data as csv and store them locally for re-use\n",
    "#~in anaconda 3 python3.7 all modules are store in ~/opt/anaconda3/lib/python3.7/site-packages\n",
    "import numpy as np\n",
    "import pandas as pd\n",
    "#from alpha_vantage.timeseries import TimeSeries\n",
    "from pprint import pprint"
   ]
  },
  {
   "cell_type": "code",
   "execution_count": null,
   "metadata": {},
   "outputs": [],
   "source": [
    "import myalpha\n",
    "api_key_alpha = myalpha.secret['api_key_alpha']\n",
    "\n",
    "print(api_key_alpha)\n"
   ]
  },
  {
   "cell_type": "code",
   "execution_count": null,
   "metadata": {},
   "outputs": [],
   "source": []
  },
  {
   "cell_type": "code",
   "execution_count": null,
   "metadata": {},
   "outputs": [],
   "source": []
  },
  {
   "cell_type": "code",
   "execution_count": null,
   "metadata": {},
   "outputs": [],
   "source": [
    "#import csv data from alpha_vantage from scratch (everything since year 2000) and store it in data folder\n",
    "#create a data folder\n",
    "#example: import csv data for Procter&Gamble and SPY (etf which mimicks S&P 500 index)\n",
    "#you alway need to import and store a symbol once you can work with its csv.\n",
    "#if you don't the ticker symbol use alpha vantage for google sheets functionality (extension)\n",
    "#after importing extension and registered you api_key use formula =AVSearchEquitySymbol(\"<some symbol_description\")\n",
    "#example: =AVSearchEquitySymbol(\"bayer\") this will output for example the ticker-symbol: BAYN.DEX\n",
    "import myalpha_util as myau\n",
    "import myalpha \n",
    "import os\n",
    "api_key_alpha = myalpha.secret['api_key_alpha']\n",
    "function='TIME_SERIES_DAILY_ADJUSTED'\n",
    "symbol_list=['PG','SPY']\n",
    "\n",
    "myau.get_alphav_10symbols(symbol_list,api_key_alpha,function)\n"
   ]
  },
  {
   "cell_type": "code",
   "execution_count": null,
   "metadata": {},
   "outputs": [],
   "source": [
    "\n",
    "\n",
    "    \n"
   ]
  },
  {
   "cell_type": "code",
   "execution_count": null,
   "metadata": {},
   "outputs": [],
   "source": []
  },
  {
   "cell_type": "code",
   "execution_count": null,
   "metadata": {},
   "outputs": [],
   "source": [
    "import myalpha_util as myau\n",
    "symbol_list=['PG','SPY']\n",
    "for symbol in symbol_list:\n",
    "    df = myau.get_daily_symbol(symbol)\n",
    "    print(\"symbol: \" + symbol)\n",
    "    df.head()\n",
    "    df.index"
   ]
  },
  {
   "cell_type": "code",
   "execution_count": null,
   "metadata": {},
   "outputs": [],
   "source": [
    "#if your csv is out-dated (less than 100days)then you can update it by using update_csv\n",
    "#this will retrieve the last 100days of you symbols from alpha_vantage and append the ones missing in \n",
    "#your csv - it will write back the csv file with the appended registries \n",
    "import myalpha_util as myau\n",
    "symbol_list=['PG','SPY']\n",
    "myau.update_csv(symbol_list,api_key_alpha)"
   ]
  },
  {
   "cell_type": "code",
   "execution_count": null,
   "metadata": {},
   "outputs": [],
   "source": [
    "#compose a n-column portfolio with the daily price just as in the udemy course\n",
    "#you need to have imported the csv files first - just as described earlier\n",
    "import myalpha_util as myau\n",
    "symbol_list=['PG','SPY']\n",
    "#usecols=['timestamp','adjusted_close', 'volume']\n",
    "df_prtf=myau.compose_portfolio(symbol_list,startd='2019-01-01')\n",
    "df_prtf.head()\n",
    "df_prtf.info()\n",
    "endd='2020-02-21'\n",
    "startd='2020-02-19'\n",
    "df_prtf = df_prtf.loc[startd:endd]\n",
    "df_prtf\n",
    "df_prtf.info()\n",
    "    "
   ]
  },
  {
   "cell_type": "code",
   "execution_count": null,
   "metadata": {},
   "outputs": [],
   "source": []
  },
  {
   "cell_type": "code",
   "execution_count": null,
   "metadata": {},
   "outputs": [],
   "source": [
    "import sys\n",
    "#sys.path"
   ]
  },
  {
   "cell_type": "code",
   "execution_count": null,
   "metadata": {},
   "outputs": [],
   "source": [
    "import os\n",
    "os.environ"
   ]
  },
  {
   "cell_type": "code",
   "execution_count": null,
   "metadata": {},
   "outputs": [],
   "source": []
  },
  {
   "cell_type": "code",
   "execution_count": null,
   "metadata": {},
   "outputs": [],
   "source": []
  }
 ],
 "metadata": {
  "kernelspec": {
   "display_name": "Python 3.7.4 64-bit ('base': conda)",
   "language": "python",
   "name": "python37464bitbasecondac30b3f2601d04f078bf1c3551f942ea5"
  },
  "language_info": {
   "codemirror_mode": {
    "name": "ipython",
    "version": 3
   },
   "file_extension": ".py",
   "mimetype": "text/x-python",
   "name": "python",
   "nbconvert_exporter": "python",
   "pygments_lexer": "ipython3",
   "version": "3.7.4"
  }
 },
 "nbformat": 4,
 "nbformat_minor": 4
}
