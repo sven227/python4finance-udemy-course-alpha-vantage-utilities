{
 "cells": [
  {
   "cell_type": "code",
   "execution_count": null,
   "metadata": {},
   "outputs": [],
   "source": [
    "\n",
    "\n"
   ]
  },
  {
   "cell_type": "markdown",
   "metadata": {},
   "source": [
    "# 1)some explanations on importing data\n",
    "**if you haven't imported data from alpha_vantage yet**\n",
    "keep in mind that the udemy course was recorded in March 2017\n",
    "all data will be imported as csv file and imported into your script as a pandas dataframe object\n",
    "make sure you have a folder created named '/data' - just where in the folder where you run this script from\n",
    "copy the file myalphautil.py and myalpha.py into your working folder\n",
    "in myalpha.py put in your alpha-vantage API-Key where the placeholder  and save the file\n",
    "then do:\n",
    "```\n",
    "import myalpha_util as myau\n",
    "import myalpha \n",
    "import os\n",
    "api_key_alpha = myalpha.secret['api_key_alpha']\n",
    "function='TIME_SERIES_DAILY_ADJUSTED'\n",
    "symbol_list=['PG','SPY']\n",
    "myau.get_alphav_10symbols(symbol_list,api_key_alpha,function)\n",
    "```\n",
    "\n",
    "*you can set and ticker/symbols you like - find the symbols alpha vantage is working with using its google worksheet utility - this googles excel with the alpha-vantage add-in you import from google (read the help and if you know how excel formulas work there is alpha-specific formula imported from the add-in to search symbols by a description string*\n",
    "*PG is symbol for procter & gamble\n",
    "indexes are not available in alpha_vantage but you can have ETFs mirroring one\n",
    "SPY is symbol for an ETF mirroring S&P 500 (SPY is a perfect substitute for S&P500 index)\n",
    "myau.get_alphav_10symbols(symbol_list, api_key_alpha)\n",
    "myau.update_index2timedate_csv(symbol_list)*"
   ]
  },
  {
   "cell_type": "code",
   "execution_count": null,
   "metadata": {},
   "outputs": [],
   "source": [
    "from scipy import stats\n",
    "\n",
    "import statsmodels.api as sm\n",
    "\n",
    "import matplotlib.pyplot as plt\n",
    "%matplotlib inline\n",
    "#plots graphs below code cells and stores them in notebook document"
   ]
  },
  {
   "cell_type": "code",
   "execution_count": 5,
   "metadata": {},
   "outputs": [],
   "source": [
    "#these are utility functions for Udemy-course: Python for Finance: Investment Fundamentals & Data Analytics\n",
    "#we use alpha_vantage to retrieve data as csv and store them locally for re-use\n",
    "#~in anaconda 3 python3.7 all modules are store in ~/opt/anaconda3/lib/python3.7/site-packages\n",
    "import numpy as np\n",
    "import pandas as pd\n",
    "#from alpha_vantage.timeseries import TimeSeries\n",
    "from pprint import pprint"
   ]
  },
  {
   "cell_type": "code",
   "execution_count": null,
   "metadata": {},
   "outputs": [],
   "source": []
  },
  {
   "cell_type": "code",
   "execution_count": null,
   "metadata": {},
   "outputs": [],
   "source": [
    "import myalpha\n",
    "api_key_alpha = myalpha.secret['api_key_alpha']\n",
    "\n",
    "print(api_key_alpha)\n"
   ]
  },
  {
   "cell_type": "code",
   "execution_count": null,
   "metadata": {},
   "outputs": [],
   "source": [
    "#if your csv is out-dated (less than 100days)then you can update it by using update_csv\n",
    "#this will retrieve the last 100days of you symbols from alpha_vantage and append the ones missing in \n",
    "#your csv - it will write back the csv file with the appended registries \n",
    "import myalpha_util as myau\n",
    "symbol_list=['PG','SPY']\n",
    "myau.update_csv(symbol_list,api_key_alpha)"
   ]
  },
  {
   "cell_type": "markdown",
   "metadata": {},
   "source": [
    "*the following code assumes that the 'data' folder is created and csv files imported for the symbol_list 'PG'and 'SPY'*"
   ]
  },
  {
   "cell_type": "code",
   "execution_count": null,
   "metadata": {},
   "outputs": [],
   "source": [
    "# this is just to test if you have data in your /data folder\n",
    "import myalpha_util as myau\n",
    "symbol_list=['PG','SPY']\n",
    "start='2020-01-01'\n",
    "end='2020-02-14'\n",
    "for symbol in symbol_list:\n",
    "    df = myau.get_daily_symbol(symbol,start,end)\n",
    "    print(\"symbol: \" + symbol)\n",
    "    df.head()\n",
    "    df.tail()\n",
    "    df.index\n",
    "    print(df.head(1))"
   ]
  },
  {
   "cell_type": "markdown",
   "metadata": {},
   "source": [
    "## once you have imported data you can now compose your portfolio\n"
   ]
  },
  {
   "cell_type": "code",
   "execution_count": 1,
   "metadata": {},
   "outputs": [
    {
     "name": "stdout",
     "output_type": "stream",
     "text": [
      "<class 'pandas.core.frame.DataFrame'>\n",
      "DatetimeIndex: 1819 entries, 2010-01-04 to 2017-03-24\n",
      "Data columns (total 2 columns):\n",
      "PG     1819 non-null float64\n",
      "SPY    1819 non-null float64\n",
      "dtypes: float64(2)\n",
      "memory usage: 42.6 KB\n"
     ]
    },
    {
     "data": {
      "text/plain": [
       "3638"
      ]
     },
     "execution_count": 1,
     "metadata": {},
     "output_type": "execute_result"
    },
    {
     "name": "stdout",
     "output_type": "stream",
     "text": [
      "_____________________________\n"
     ]
    },
    {
     "data": {
      "text/html": [
       "<div>\n",
       "<style scoped>\n",
       "    .dataframe tbody tr th:only-of-type {\n",
       "        vertical-align: middle;\n",
       "    }\n",
       "\n",
       "    .dataframe tbody tr th {\n",
       "        vertical-align: top;\n",
       "    }\n",
       "\n",
       "    .dataframe thead th {\n",
       "        text-align: right;\n",
       "    }\n",
       "</style>\n",
       "<table border=\"1\" class=\"dataframe\">\n",
       "  <thead>\n",
       "    <tr style=\"text-align: right;\">\n",
       "      <th></th>\n",
       "      <th>PG</th>\n",
       "      <th>SPY</th>\n",
       "    </tr>\n",
       "    <tr>\n",
       "      <th>timestamp</th>\n",
       "      <th></th>\n",
       "      <th></th>\n",
       "    </tr>\n",
       "  </thead>\n",
       "  <tbody>\n",
       "    <tr>\n",
       "      <td>2010-01-04</td>\n",
       "      <td>44.3197</td>\n",
       "      <td>92.7692</td>\n",
       "    </tr>\n",
       "  </tbody>\n",
       "</table>\n",
       "</div>"
      ],
      "text/plain": [
       "                 PG      SPY\n",
       "timestamp                   \n",
       "2010-01-04  44.3197  92.7692"
      ]
     },
     "execution_count": 1,
     "metadata": {},
     "output_type": "execute_result"
    },
    {
     "data": {
      "text/html": [
       "<div>\n",
       "<style scoped>\n",
       "    .dataframe tbody tr th:only-of-type {\n",
       "        vertical-align: middle;\n",
       "    }\n",
       "\n",
       "    .dataframe tbody tr th {\n",
       "        vertical-align: top;\n",
       "    }\n",
       "\n",
       "    .dataframe thead th {\n",
       "        text-align: right;\n",
       "    }\n",
       "</style>\n",
       "<table border=\"1\" class=\"dataframe\">\n",
       "  <thead>\n",
       "    <tr style=\"text-align: right;\">\n",
       "      <th></th>\n",
       "      <th>PG</th>\n",
       "      <th>SPY</th>\n",
       "    </tr>\n",
       "    <tr>\n",
       "      <th>timestamp</th>\n",
       "      <th></th>\n",
       "      <th></th>\n",
       "    </tr>\n",
       "  </thead>\n",
       "  <tbody>\n",
       "    <tr>\n",
       "      <td>2017-03-24</td>\n",
       "      <td>82.6325</td>\n",
       "      <td>221.8884</td>\n",
       "    </tr>\n",
       "  </tbody>\n",
       "</table>\n",
       "</div>"
      ],
      "text/plain": [
       "                 PG       SPY\n",
       "timestamp                    \n",
       "2017-03-24  82.6325  221.8884"
      ]
     },
     "execution_count": 1,
     "metadata": {},
     "output_type": "execute_result"
    },
    {
     "name": "stdout",
     "output_type": "stream",
     "text": [
      "_____________________________\n"
     ]
    }
   ],
   "source": [
    "#compose a n-column portfolio with the daily price just as in the udemy course\n",
    "#you need to have imported the csv files first - just as described earlier\n",
    "import myalpha_util as myau\n",
    "symbol_list=['PG','SPY']\n",
    "start='2010-01-01'\n",
    "end='2017-03-24'\n",
    "#usecols=['timestamp','adjusted_close', 'volume']\n",
    "pf_data=myau.compose_portfolio(symbol_list,start,end)\n",
    "pf_data.info()\n",
    "pf_data.size\n",
    "print(\"_____________________________\")\n",
    "pf_data.head(1)\n",
    "pf_data.tail(1)\n",
    "print(\"_____________________________\")"
   ]
  },
  {
   "cell_type": "markdown",
   "metadata": {},
   "source": [
    "# 2)Markowitz Portfolio Optimization\n",
    "*part II of Udemy course python for finance investment fundamentals  data analytics*"
   ]
  },
  {
   "cell_type": "code",
   "execution_count": 3,
   "metadata": {},
   "outputs": [
    {
     "data": {
      "text/plain": [
       "PG     44.3197\n",
       "SPY    92.7692\n",
       "Name: 2010-01-04 00:00:00, dtype: float64"
      ]
     },
     "execution_count": 3,
     "metadata": {},
     "output_type": "execute_result"
    },
    {
     "data": {
      "text/plain": [
       "<matplotlib.axes._subplots.AxesSubplot at 0x1c1948de50>"
      ]
     },
     "execution_count": 3,
     "metadata": {},
     "output_type": "execute_result"
    },
    {
     "data": {
      "image/png": "[encoded data removed]",
      "text/plain": [
       "<Figure size 1080x432 with 1 Axes>"
      ]
     },
     "metadata": {
      "needs_background": "light"
     },
     "output_type": "display_data"
    }
   ],
   "source": [
    "import statsmodels.api as sm\n",
    "\n",
    "import matplotlib.pyplot as plt\n",
    "%matplotlib inline\n",
    "#plots graphs below code cells and stores them in notebook document\n",
    "\n",
    "\n",
    "pf_data.iloc[0]\n",
    "(pf_data / pf_data.iloc[0] * 100).plot(figsize=(15, 6))"
   ]
  },
  {
   "cell_type": "code",
   "execution_count": 6,
   "metadata": {},
   "outputs": [
    {
     "data": {
      "text/html": [
       "<div>\n",
       "<style scoped>\n",
       "    .dataframe tbody tr th:only-of-type {\n",
       "        vertical-align: middle;\n",
       "    }\n",
       "\n",
       "    .dataframe tbody tr th {\n",
       "        vertical-align: top;\n",
       "    }\n",
       "\n",
       "    .dataframe thead th {\n",
       "        text-align: right;\n",
       "    }\n",
       "</style>\n",
       "<table border=\"1\" class=\"dataframe\">\n",
       "  <thead>\n",
       "    <tr style=\"text-align: right;\">\n",
       "      <th></th>\n",
       "      <th>PG</th>\n",
       "      <th>SPY</th>\n",
       "    </tr>\n",
       "    <tr>\n",
       "      <th>timestamp</th>\n",
       "      <th></th>\n",
       "      <th></th>\n",
       "    </tr>\n",
       "  </thead>\n",
       "  <tbody>\n",
       "    <tr>\n",
       "      <td>2010-01-04</td>\n",
       "      <td>NaN</td>\n",
       "      <td>NaN</td>\n",
       "    </tr>\n",
       "    <tr>\n",
       "      <td>2010-01-05</td>\n",
       "      <td>0.000327</td>\n",
       "      <td>0.002644</td>\n",
       "    </tr>\n",
       "    <tr>\n",
       "      <td>2010-01-06</td>\n",
       "      <td>-0.004755</td>\n",
       "      <td>0.000704</td>\n",
       "    </tr>\n",
       "  </tbody>\n",
       "</table>\n",
       "</div>"
      ],
      "text/plain": [
       "                  PG       SPY\n",
       "timestamp                     \n",
       "2010-01-04       NaN       NaN\n",
       "2010-01-05  0.000327  0.002644\n",
       "2010-01-06 -0.004755  0.000704"
      ]
     },
     "execution_count": 6,
     "metadata": {},
     "output_type": "execute_result"
    },
    {
     "data": {
      "text/html": [
       "<div>\n",
       "<style scoped>\n",
       "    .dataframe tbody tr th:only-of-type {\n",
       "        vertical-align: middle;\n",
       "    }\n",
       "\n",
       "    .dataframe tbody tr th {\n",
       "        vertical-align: top;\n",
       "    }\n",
       "\n",
       "    .dataframe thead th {\n",
       "        text-align: right;\n",
       "    }\n",
       "</style>\n",
       "<table border=\"1\" class=\"dataframe\">\n",
       "  <thead>\n",
       "    <tr style=\"text-align: right;\">\n",
       "      <th></th>\n",
       "      <th>PG</th>\n",
       "      <th>SPY</th>\n",
       "    </tr>\n",
       "    <tr>\n",
       "      <th>timestamp</th>\n",
       "      <th></th>\n",
       "      <th></th>\n",
       "    </tr>\n",
       "  </thead>\n",
       "  <tbody>\n",
       "    <tr>\n",
       "      <td>2017-03-22</td>\n",
       "      <td>-0.002195</td>\n",
       "      <td>0.002350</td>\n",
       "    </tr>\n",
       "    <tr>\n",
       "      <td>2017-03-23</td>\n",
       "      <td>-0.002422</td>\n",
       "      <td>-0.001068</td>\n",
       "    </tr>\n",
       "    <tr>\n",
       "      <td>2017-03-24</td>\n",
       "      <td>-0.002205</td>\n",
       "      <td>-0.000727</td>\n",
       "    </tr>\n",
       "  </tbody>\n",
       "</table>\n",
       "</div>"
      ],
      "text/plain": [
       "                  PG       SPY\n",
       "timestamp                     \n",
       "2017-03-22 -0.002195  0.002350\n",
       "2017-03-23 -0.002422 -0.001068\n",
       "2017-03-24 -0.002205 -0.000727"
      ]
     },
     "execution_count": 6,
     "metadata": {},
     "output_type": "execute_result"
    }
   ],
   "source": [
    "import numpy as np\n",
    "log_returns=np.log(pf_data / pf_data.shift(1))\n",
    "log_returns.head(3)\n",
    "log_returns.tail(3)"
   ]
  },
  {
   "cell_type": "code",
   "execution_count": 7,
   "metadata": {},
   "outputs": [
    {
     "data": {
      "text/plain": [
       "PG     0.085667\n",
       "SPY    0.119920\n",
       "dtype: float64"
      ]
     },
     "execution_count": 7,
     "metadata": {},
     "output_type": "execute_result"
    }
   ],
   "source": [
    "log_returns.mean()*250\n"
   ]
  },
  {
   "cell_type": "code",
   "execution_count": 8,
   "metadata": {},
   "outputs": [
    {
     "data": {
      "text/html": [
       "<div>\n",
       "<style scoped>\n",
       "    .dataframe tbody tr th:only-of-type {\n",
       "        vertical-align: middle;\n",
       "    }\n",
       "\n",
       "    .dataframe tbody tr th {\n",
       "        vertical-align: top;\n",
       "    }\n",
       "\n",
       "    .dataframe thead th {\n",
       "        text-align: right;\n",
       "    }\n",
       "</style>\n",
       "<table border=\"1\" class=\"dataframe\">\n",
       "  <thead>\n",
       "    <tr style=\"text-align: right;\">\n",
       "      <th></th>\n",
       "      <th>PG</th>\n",
       "      <th>SPY</th>\n",
       "    </tr>\n",
       "  </thead>\n",
       "  <tbody>\n",
       "    <tr>\n",
       "      <td>PG</td>\n",
       "      <td>0.020098</td>\n",
       "      <td>0.012389</td>\n",
       "    </tr>\n",
       "    <tr>\n",
       "      <td>SPY</td>\n",
       "      <td>0.012389</td>\n",
       "      <td>0.023108</td>\n",
       "    </tr>\n",
       "  </tbody>\n",
       "</table>\n",
       "</div>"
      ],
      "text/plain": [
       "           PG       SPY\n",
       "PG   0.020098  0.012389\n",
       "SPY  0.012389  0.023108"
      ]
     },
     "execution_count": 8,
     "metadata": {},
     "output_type": "execute_result"
    }
   ],
   "source": [
    "log_returns.cov()*250"
   ]
  },
  {
   "cell_type": "code",
   "execution_count": 9,
   "metadata": {},
   "outputs": [
    {
     "data": {
      "text/html": [
       "<div>\n",
       "<style scoped>\n",
       "    .dataframe tbody tr th:only-of-type {\n",
       "        vertical-align: middle;\n",
       "    }\n",
       "\n",
       "    .dataframe tbody tr th {\n",
       "        vertical-align: top;\n",
       "    }\n",
       "\n",
       "    .dataframe thead th {\n",
       "        text-align: right;\n",
       "    }\n",
       "</style>\n",
       "<table border=\"1\" class=\"dataframe\">\n",
       "  <thead>\n",
       "    <tr style=\"text-align: right;\">\n",
       "      <th></th>\n",
       "      <th>PG</th>\n",
       "      <th>SPY</th>\n",
       "    </tr>\n",
       "  </thead>\n",
       "  <tbody>\n",
       "    <tr>\n",
       "      <td>PG</td>\n",
       "      <td>1.000000</td>\n",
       "      <td>0.574863</td>\n",
       "    </tr>\n",
       "    <tr>\n",
       "      <td>SPY</td>\n",
       "      <td>0.574863</td>\n",
       "      <td>1.000000</td>\n",
       "    </tr>\n",
       "  </tbody>\n",
       "</table>\n",
       "</div>"
      ],
      "text/plain": [
       "           PG       SPY\n",
       "PG   1.000000  0.574863\n",
       "SPY  0.574863  1.000000"
      ]
     },
     "execution_count": 9,
     "metadata": {},
     "output_type": "execute_result"
    }
   ],
   "source": [
    "log_returns.corr()\n",
    "# well correlated if correlation r**2 is higher then 30%"
   ]
  },
  {
   "cell_type": "markdown",
   "metadata": {},
   "source": [
    "## first we must obtain an optimization of portfolios\n",
    "**we obtain number of stocks in portfolio (here it is 2)**\n",
    "**we first create 2 random weight**"
   ]
  },
  {
   "cell_type": "code",
   "execution_count": 10,
   "metadata": {},
   "outputs": [],
   "source": [
    "    "
   ]
  },
  {
   "cell_type": "code",
   "execution_count": 11,
   "metadata": {},
   "outputs": [
    {
     "data": {
      "text/plain": [
       "2"
      ]
     },
     "execution_count": 11,
     "metadata": {},
     "output_type": "execute_result"
    },
    {
     "data": {
      "text/plain": [
       "array([0.30332787, 0.55138092])"
      ]
     },
     "execution_count": 11,
     "metadata": {},
     "output_type": "execute_result"
    },
    {
     "data": {
      "text/plain": [
       "0.8547087891043859"
      ]
     },
     "execution_count": 11,
     "metadata": {},
     "output_type": "execute_result"
    }
   ],
   "source": [
    "num_assets\n",
    "arr = np.random.random(2)\n",
    "arr\n",
    "arr[0]+arr[1]"
   ]
  },
  {
   "cell_type": "code",
   "execution_count": 12,
   "metadata": {},
   "outputs": [
    {
     "data": {
      "text/plain": [
       "array([0.12472475, 0.87527525])"
      ]
     },
     "execution_count": 12,
     "metadata": {},
     "output_type": "execute_result"
    },
    {
     "data": {
      "text/plain": [
       "1.0"
      ]
     },
     "execution_count": 12,
     "metadata": {},
     "output_type": "execute_result"
    }
   ],
   "source": [
    "#generate weights for portfolio that add up to 1\n",
    "#with np.random.random(num_assets=2) we get 2 random values from 0 to 1\n",
    "#but the random values do not add up to 1 unless you do a trick weights /= np.sum(weights)\n",
    "weights=np.random.random(num_assets)\n",
    "###########################\n",
    "weights /= np.sum(weights)\n",
    "##########################\n",
    "weights\n",
    "weights[0]+weights[1]\n",
    "#this works because weights is an array(w1,w2) and w1/(w1+w2) + w2/(w1+w2) = (w1+w2)/(w1+w2)"
   ]
  },
  {
   "cell_type": "markdown",
   "metadata": {},
   "source": [
    "## calculate expected portfolio return for 1000 combinations of a portfolio"
   ]
  },
  {
   "cell_type": "code",
   "execution_count": 13,
   "metadata": {},
   "outputs": [
    {
     "data": {
      "text/plain": [
       "PG     0.000343\n",
       "SPY    0.000480\n",
       "dtype: float64"
      ]
     },
     "execution_count": 13,
     "metadata": {},
     "output_type": "execute_result"
    },
    {
     "data": {
      "text/plain": [
       "0.1156480564678114"
      ]
     },
     "execution_count": 13,
     "metadata": {},
     "output_type": "execute_result"
    }
   ],
   "source": [
    "log_returns.mean()\n",
    "np.sum(weights * log_returns.mean())*250"
   ]
  },
  {
   "cell_type": "code",
   "execution_count": 15,
   "metadata": {},
   "outputs": [
    {
     "data": {
      "text/plain": [
       "0.02072074285990837"
      ]
     },
     "execution_count": 15,
     "metadata": {},
     "output_type": "execute_result"
    }
   ],
   "source": [
    "#portfolio Variance\n",
    "pfolio_var=np.dot(weights.T, np.dot(log_returns.cov()*250, weights))\n",
    "pfolio_var"
   ]
  },
  {
   "cell_type": "code",
   "execution_count": 21,
   "metadata": {},
   "outputs": [
    {
     "data": {
      "text/plain": [
       "0.1439470140708322"
      ]
     },
     "execution_count": 21,
     "metadata": {},
     "output_type": "execute_result"
    },
    {
     "name": "stdout",
     "output_type": "stream",
     "text": [
      "14.395%\n"
     ]
    }
   ],
   "source": [
    "#portfolio volatility\n",
    "pfolio_vol=pfolio_var**0.5\n",
    "pfolio_vol\n",
    "print(str(round(pfolio_vol,5)*100)+'%')\n"
   ]
  },
  {
   "cell_type": "code",
   "execution_count": 29,
   "metadata": {},
   "outputs": [
    {
     "data": {
      "text/plain": [
       "0.11471922046039801"
      ]
     },
     "execution_count": 29,
     "metadata": {},
     "output_type": "execute_result"
    },
    {
     "data": {
      "text/plain": [
       "0.11640096619479563"
      ]
     },
     "execution_count": 29,
     "metadata": {},
     "output_type": "execute_result"
    },
    {
     "name": "stdout",
     "output_type": "stream",
     "text": [
      "###########\n"
     ]
    },
    {
     "data": {
      "text/plain": [
       "0.14239941670252873"
      ]
     },
     "execution_count": 29,
     "metadata": {},
     "output_type": "execute_result"
    },
    {
     "data": {
      "text/plain": [
       "0.1452578604255024"
      ]
     },
     "execution_count": 29,
     "metadata": {},
     "output_type": "execute_result"
    }
   ],
   "source": [
    "num_assets=len(symbol_list)\n",
    "pfolio_returns=[]\n",
    "pfolio_vols=[]\n",
    "#create 1000 combinations of portfolios for PG and SPY\n",
    "for x in range(1,1000,1):\n",
    "    weights=np.random.random(num_assets)\n",
    "    weights /= np.sum(weights)\n",
    "    pfolio_returns.append(np.sum(weights * log_returns.mean())*250)\n",
    "    pfolio_vols.append(np.dot(weights.T, np.dot(log_returns.cov()*250, weights))**0.5)\n",
    "\n",
    "#convert lists into numpy arrays\n",
    "pfolio_returns = np.array(pfolio_returns)\n",
    "pfolio_vols = np.array(pfolio_vols)\n",
    "\n",
    "pfolio_returns[0]\n",
    "pfolio_returns[-1]\n",
    "print(\"###########\")\n",
    "pfolio_vols[0]\n",
    "pfolio_vols[-1]\n"
   ]
  },
  {
   "cell_type": "markdown",
   "metadata": {},
   "source": [
    "## plot the returns vs volatility(risk) of the portfolio\n",
    "*in order to do that create a dataframe object consisting of the arrays using the dictionary syntax for creation*\n"
   ]
  },
  {
   "cell_type": "code",
   "execution_count": 31,
   "metadata": {},
   "outputs": [
    {
     "data": {
      "text/html": [
       "<div>\n",
       "<style scoped>\n",
       "    .dataframe tbody tr th:only-of-type {\n",
       "        vertical-align: middle;\n",
       "    }\n",
       "\n",
       "    .dataframe tbody tr th {\n",
       "        vertical-align: top;\n",
       "    }\n",
       "\n",
       "    .dataframe thead th {\n",
       "        text-align: right;\n",
       "    }\n",
       "</style>\n",
       "<table border=\"1\" class=\"dataframe\">\n",
       "  <thead>\n",
       "    <tr style=\"text-align: right;\">\n",
       "      <th></th>\n",
       "      <th>Return</th>\n",
       "      <th>Volatility</th>\n",
       "    </tr>\n",
       "  </thead>\n",
       "  <tbody>\n",
       "    <tr>\n",
       "      <td>0</td>\n",
       "      <td>0.114719</td>\n",
       "      <td>0.142399</td>\n",
       "    </tr>\n",
       "    <tr>\n",
       "      <td>1</td>\n",
       "      <td>0.103844</td>\n",
       "      <td>0.130788</td>\n",
       "    </tr>\n",
       "    <tr>\n",
       "      <td>2</td>\n",
       "      <td>0.087982</td>\n",
       "      <td>0.138348</td>\n",
       "    </tr>\n",
       "    <tr>\n",
       "      <td>3</td>\n",
       "      <td>0.098107</td>\n",
       "      <td>0.130111</td>\n",
       "    </tr>\n",
       "    <tr>\n",
       "      <td>4</td>\n",
       "      <td>0.106487</td>\n",
       "      <td>0.132418</td>\n",
       "    </tr>\n",
       "  </tbody>\n",
       "</table>\n",
       "</div>"
      ],
      "text/plain": [
       "     Return  Volatility\n",
       "0  0.114719    0.142399\n",
       "1  0.103844    0.130788\n",
       "2  0.087982    0.138348\n",
       "3  0.098107    0.130111\n",
       "4  0.106487    0.132418"
      ]
     },
     "execution_count": 31,
     "metadata": {},
     "output_type": "execute_result"
    },
    {
     "data": {
      "text/html": [
       "<div>\n",
       "<style scoped>\n",
       "    .dataframe tbody tr th:only-of-type {\n",
       "        vertical-align: middle;\n",
       "    }\n",
       "\n",
       "    .dataframe tbody tr th {\n",
       "        vertical-align: top;\n",
       "    }\n",
       "\n",
       "    .dataframe thead th {\n",
       "        text-align: right;\n",
       "    }\n",
       "</style>\n",
       "<table border=\"1\" class=\"dataframe\">\n",
       "  <thead>\n",
       "    <tr style=\"text-align: right;\">\n",
       "      <th></th>\n",
       "      <th>Return</th>\n",
       "      <th>Volatility</th>\n",
       "    </tr>\n",
       "  </thead>\n",
       "  <tbody>\n",
       "    <tr>\n",
       "      <td>994</td>\n",
       "      <td>0.118626</td>\n",
       "      <td>0.149413</td>\n",
       "    </tr>\n",
       "    <tr>\n",
       "      <td>995</td>\n",
       "      <td>0.099139</td>\n",
       "      <td>0.129940</td>\n",
       "    </tr>\n",
       "    <tr>\n",
       "      <td>996</td>\n",
       "      <td>0.105941</td>\n",
       "      <td>0.132015</td>\n",
       "    </tr>\n",
       "    <tr>\n",
       "      <td>997</td>\n",
       "      <td>0.100924</td>\n",
       "      <td>0.129948</td>\n",
       "    </tr>\n",
       "    <tr>\n",
       "      <td>998</td>\n",
       "      <td>0.116401</td>\n",
       "      <td>0.145258</td>\n",
       "    </tr>\n",
       "  </tbody>\n",
       "</table>\n",
       "</div>"
      ],
      "text/plain": [
       "       Return  Volatility\n",
       "994  0.118626    0.149413\n",
       "995  0.099139    0.129940\n",
       "996  0.105941    0.132015\n",
       "997  0.100924    0.129948\n",
       "998  0.116401    0.145258"
      ]
     },
     "execution_count": 31,
     "metadata": {},
     "output_type": "execute_result"
    }
   ],
   "source": [
    "portfolios=pd.DataFrame({'Return': pfolio_returns, 'Volatility':pfolio_vols})\n",
    "portfolios.head()\n",
    "portfolios.tail()\n"
   ]
  },
  {
   "cell_type": "code",
   "execution_count": 33,
   "metadata": {},
   "outputs": [
    {
     "data": {
      "text/plain": [
       "<matplotlib.axes._subplots.AxesSubplot at 0x1c197ff350>"
      ]
     },
     "execution_count": 33,
     "metadata": {},
     "output_type": "execute_result"
    },
    {
     "data": {
      "text/plain": [
       "Text(0.5, 0, 'Expected Volatility')"
      ]
     },
     "execution_count": 33,
     "metadata": {},
     "output_type": "execute_result"
    },
    {
     "data": {
      "text/plain": [
       "Text(0, 0.5, 'Expected Return')"
      ]
     },
     "execution_count": 33,
     "metadata": {},
     "output_type": "execute_result"
    },
    {
     "data": {
      "image/png": "[encoded data removed]",
      "text/plain": [
       "<Figure size 720x432 with 1 Axes>"
      ]
     },
     "metadata": {
      "needs_background": "light"
     },
     "output_type": "display_data"
    }
   ],
   "source": [
    "portfolios.plot(x='Volatility',y='Return', kind='scatter', figsize=(10,6));\n",
    "plt.xlabel('Expected Volatility')\n",
    "plt.ylabel('Expected Return')"
   ]
  },
  {
   "cell_type": "markdown",
   "metadata": {},
   "source": [
    "# 3) The Capital Asset Pricing Model CAPM\n",
    "**if you have data in /data folder execute scripts from here:**\n",
    "<br />\n",
    "**if not go back to 1)**\n"
   ]
  },
  {
   "cell_type": "code",
   "execution_count": 3,
   "metadata": {},
   "outputs": [],
   "source": [
    "#these are utility functions for Udemy-course: Python for Finance: Investment Fundamentals & Data Analytics\n",
    "#we use alpha_vantage to retrieve data as csv and store them locally for re-use\n",
    "#~in anaconda 3 python3.7 all modules are store in ~/opt/anaconda3/lib/python3.7/site-packages\n",
    "\n",
    "import numpy as np\n",
    "import pandas as pd\n",
    "#from alpha_vantage.timeseries import TimeSeries\n",
    "from pprint import pprint"
   ]
  },
  {
   "cell_type": "code",
   "execution_count": 4,
   "metadata": {},
   "outputs": [
    {
     "name": "stdout",
     "output_type": "stream",
     "text": [
      "77K8XPSR3XWWZJ80\n"
     ]
    }
   ],
   "source": [
    "import myalpha\n",
    "api_key_alpha = myalpha.secret['api_key_alpha']\n",
    "\n",
    "print(api_key_alpha)"
   ]
  },
  {
   "cell_type": "code",
   "execution_count": 5,
   "metadata": {},
   "outputs": [
    {
     "name": "stdout",
     "output_type": "stream",
     "text": [
      "<class 'pandas.core.frame.DataFrame'>\n",
      "DatetimeIndex: 1258 entries, 2012-01-03 to 2016-12-30\n",
      "Data columns (total 2 columns):\n",
      "PG     1258 non-null float64\n",
      "SPY    1258 non-null float64\n",
      "dtypes: float64(2)\n",
      "memory usage: 29.5 KB\n"
     ]
    },
    {
     "data": {
      "text/plain": [
       "2516"
      ]
     },
     "execution_count": 5,
     "metadata": {},
     "output_type": "execute_result"
    },
    {
     "name": "stdout",
     "output_type": "stream",
     "text": [
      "_____________________________\n"
     ]
    },
    {
     "data": {
      "text/html": [
       "<div>\n",
       "<style scoped>\n",
       "    .dataframe tbody tr th:only-of-type {\n",
       "        vertical-align: middle;\n",
       "    }\n",
       "\n",
       "    .dataframe tbody tr th {\n",
       "        vertical-align: top;\n",
       "    }\n",
       "\n",
       "    .dataframe thead th {\n",
       "        text-align: right;\n",
       "    }\n",
       "</style>\n",
       "<table border=\"1\" class=\"dataframe\">\n",
       "  <thead>\n",
       "    <tr style=\"text-align: right;\">\n",
       "      <th></th>\n",
       "      <th>PG</th>\n",
       "      <th>SPY</th>\n",
       "    </tr>\n",
       "    <tr>\n",
       "      <th>timestamp</th>\n",
       "      <th></th>\n",
       "      <th></th>\n",
       "    </tr>\n",
       "  </thead>\n",
       "  <tbody>\n",
       "    <tr>\n",
       "      <td>2012-01-03</td>\n",
       "      <td>51.5603</td>\n",
       "      <td>108.6437</td>\n",
       "    </tr>\n",
       "  </tbody>\n",
       "</table>\n",
       "</div>"
      ],
      "text/plain": [
       "                 PG       SPY\n",
       "timestamp                    \n",
       "2012-01-03  51.5603  108.6437"
      ]
     },
     "execution_count": 5,
     "metadata": {},
     "output_type": "execute_result"
    },
    {
     "data": {
      "text/html": [
       "<div>\n",
       "<style scoped>\n",
       "    .dataframe tbody tr th:only-of-type {\n",
       "        vertical-align: middle;\n",
       "    }\n",
       "\n",
       "    .dataframe tbody tr th {\n",
       "        vertical-align: top;\n",
       "    }\n",
       "\n",
       "    .dataframe thead th {\n",
       "        text-align: right;\n",
       "    }\n",
       "</style>\n",
       "<table border=\"1\" class=\"dataframe\">\n",
       "  <thead>\n",
       "    <tr style=\"text-align: right;\">\n",
       "      <th></th>\n",
       "      <th>PG</th>\n",
       "      <th>SPY</th>\n",
       "    </tr>\n",
       "    <tr>\n",
       "      <th>timestamp</th>\n",
       "      <th></th>\n",
       "      <th></th>\n",
       "    </tr>\n",
       "  </thead>\n",
       "  <tbody>\n",
       "    <tr>\n",
       "      <td>2016-12-30</td>\n",
       "      <td>76.1113</td>\n",
       "      <td>211.1668</td>\n",
       "    </tr>\n",
       "  </tbody>\n",
       "</table>\n",
       "</div>"
      ],
      "text/plain": [
       "                 PG       SPY\n",
       "timestamp                    \n",
       "2016-12-30  76.1113  211.1668"
      ]
     },
     "execution_count": 5,
     "metadata": {},
     "output_type": "execute_result"
    },
    {
     "name": "stdout",
     "output_type": "stream",
     "text": [
      "_____________________________\n"
     ]
    }
   ],
   "source": [
    "#compose a n-column portfolio with the daily price just as in the udemy course\n",
    "#you need to have imported the csv files first - just as described earlier\n",
    "import myalpha_util as myau\n",
    "symbol_list=['PG','SPY']\n",
    "start='2012-01-01'\n",
    "end='2016-12-31'\n",
    "#usecols=['timestamp','adjusted_close', 'volume']\n",
    "data=myau.compose_portfolio(symbol_list,start,end)\n",
    "data.info()\n",
    "data.size\n",
    "print(\"_____________________________\")\n",
    "data.head(1)\n",
    "data.tail(1)\n",
    "print(\"_____________________________\")"
   ]
  },
  {
   "cell_type": "code",
   "execution_count": 6,
   "metadata": {},
   "outputs": [],
   "source": [
    "sec_returns = np.log( data / data.shift(1))"
   ]
  },
  {
   "cell_type": "code",
   "execution_count": 7,
   "metadata": {},
   "outputs": [
    {
     "data": {
      "text/html": [
       "<div>\n",
       "<style scoped>\n",
       "    .dataframe tbody tr th:only-of-type {\n",
       "        vertical-align: middle;\n",
       "    }\n",
       "\n",
       "    .dataframe tbody tr th {\n",
       "        vertical-align: top;\n",
       "    }\n",
       "\n",
       "    .dataframe thead th {\n",
       "        text-align: right;\n",
       "    }\n",
       "</style>\n",
       "<table border=\"1\" class=\"dataframe\">\n",
       "  <thead>\n",
       "    <tr style=\"text-align: right;\">\n",
       "      <th></th>\n",
       "      <th>PG</th>\n",
       "      <th>SPY</th>\n",
       "    </tr>\n",
       "  </thead>\n",
       "  <tbody>\n",
       "    <tr>\n",
       "      <td>PG</td>\n",
       "      <td>0.020395</td>\n",
       "      <td>0.010054</td>\n",
       "    </tr>\n",
       "    <tr>\n",
       "      <td>SPY</td>\n",
       "      <td>0.010054</td>\n",
       "      <td>0.016256</td>\n",
       "    </tr>\n",
       "  </tbody>\n",
       "</table>\n",
       "</div>"
      ],
      "text/plain": [
       "           PG       SPY\n",
       "PG   0.020395  0.010054\n",
       "SPY  0.010054  0.016256"
      ]
     },
     "execution_count": 7,
     "metadata": {},
     "output_type": "execute_result"
    }
   ],
   "source": [
    "cov = sec_returns.cov() *250\n",
    "# the cov between PG and the market (SPY = S&P) is the cov of the market\n",
    "cov"
   ]
  },
  {
   "cell_type": "code",
   "execution_count": 8,
   "metadata": {},
   "outputs": [
    {
     "data": {
      "text/plain": [
       "0.010053736286151504"
      ]
     },
     "execution_count": 8,
     "metadata": {},
     "output_type": "execute_result"
    }
   ],
   "source": [
    "# the cov between PG and the market (SPY = S&P) is the cov of the market\n",
    "cov_with_market = cov.iloc[0,1]\n",
    "cov_with_market"
   ]
  },
  {
   "cell_type": "code",
   "execution_count": 9,
   "metadata": {},
   "outputs": [
    {
     "data": {
      "text/plain": [
       "0.016256310743303845"
      ]
     },
     "execution_count": 9,
     "metadata": {},
     "output_type": "execute_result"
    }
   ],
   "source": [
    "market_var = sec_returns['SPY'].var()*250\n",
    "market_var"
   ]
  },
  {
   "cell_type": "markdown",
   "metadata": {},
   "source": [
    "** Beta: **\n",
    "### $$ \n",
    "\\beta_{pg} = \\frac{\\sigma_{pg,m}}{\\sigma_{m}^2}\n",
    "$$"
   ]
  },
  {
   "cell_type": "code",
   "execution_count": 10,
   "metadata": {},
   "outputs": [
    {
     "data": {
      "text/plain": [
       "0.6184512860824065"
      ]
     },
     "execution_count": 10,
     "metadata": {},
     "output_type": "execute_result"
    }
   ],
   "source": [
    "PG_beta = cov_with_market / market_var\n",
    "PG_beta\n",
    "#in the udemy course the number is 0.61595 - \n",
    "#the difference is because we do not exactly have the market-var calculated \n",
    "#but an approximation by its proxy value (the future SPY) - but it's close enough"
   ]
  },
  {
   "cell_type": "markdown",
   "metadata": {},
   "source": [
    "**Calculate the expected return of P&G (CAPM):**\n",
    "### $$\n",
    "\\overline{r_{pg}} = r_f + \\beta_{pg}(\\overline{r_{m}} - r_f) \n",
    "$$\n",
    "Assume a risk-free rate of 2.5% and a risk premium of 5%. <br />\n",
    "Estimate the expected return of Microsoft.\n",
    "\n",
    "<br />\n",
    "note: depending on the date this risk-free rate is different - for example, on march 2020 the yield for 10y US bonds was 0.76% not 2.5% as in march 2017 which is when the course was recorded orginally"
   ]
  },
  {
   "cell_type": "code",
   "execution_count": 11,
   "metadata": {},
   "outputs": [
    {
     "data": {
      "text/plain": [
       "PG     0.077455\n",
       "SPY    0.132175\n",
       "dtype: float64"
      ]
     },
     "execution_count": 11,
     "metadata": {},
     "output_type": "execute_result"
    }
   ],
   "source": [
    "sec_returns.mean()*250\n",
    "#market return  => proxy S&P annual return\n",
    "#market return was about 13% for the time period observed but historically this is quite high\n",
    "#a market return of 7.5% is more conservative - substract the risk-free rate of 2.5% and you \n",
    "#obtain a risk premium"
   ]
  },
  {
   "cell_type": "code",
   "execution_count": 14,
   "metadata": {},
   "outputs": [
    {
     "data": {
      "text/plain": [
       "0.05592256430412033"
      ]
     },
     "execution_count": 14,
     "metadata": {},
     "output_type": "execute_result"
    }
   ],
   "source": [
    "risk_free_rate = 0.025\n",
    "risk_premium = 0.05\n",
    "#risk_premium = sec_returns['SPY'].mean()*250 - risk_free_rate\n",
    "PG_er = risk_free_rate + PG_beta * risk_premium\n",
    "PG_er\n",
    "# if we want to calculate the numbers for current date we need to compose a portfolio with last 3-5y until this date\n",
    "\n"
   ]
  },
  {
   "cell_type": "markdown",
   "metadata": {},
   "source": [
    "**Sharpe ratio:**\n",
    "### $$\n",
    "Sharpe = \\frac{\\overline{r_{pg}} - r_f}{\\sigma_{pg}}\n",
    "$$"
   ]
  },
  {
   "cell_type": "code",
   "execution_count": 27,
   "metadata": {},
   "outputs": [
    {
     "data": {
      "text/plain": [
       "0.21653002446999012"
      ]
     },
     "execution_count": 27,
     "metadata": {},
     "output_type": "execute_result"
    }
   ],
   "source": [
    "sharpe=(PG_er - 0.025)/(sec_returns['PG'].var()*250)**0.5\n",
    "#or: sharpe=(PG_er - 0.025)/(sec_returns['PG'].std()*250**0.5)\n",
    "sharpe\n"
   ]
  },
  {
   "cell_type": "code",
   "execution_count": null,
   "metadata": {},
   "outputs": [],
   "source": []
  }
 ],
 "metadata": {
  "kernelspec": {
   "display_name": "Python 3",
   "language": "python",
   "name": "python3"
  },
  "language_info": {
   "codemirror_mode": {
    "name": "ipython",
    "version": 3
   },
   "file_extension": ".py",
   "mimetype": "text/x-python",
   "name": "python",
   "nbconvert_exporter": "python",
   "pygments_lexer": "ipython3",
   "version": "3.7.4"
  }
 },
 "nbformat": 4,
 "nbformat_minor": 4
}
